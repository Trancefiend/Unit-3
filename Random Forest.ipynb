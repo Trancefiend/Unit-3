{
 "cells": [
  {
   "cell_type": "code",
   "execution_count": 1,
   "metadata": {},
   "outputs": [],
   "source": [
    "import pandas as pd\n",
    "import numpy as np\n",
    "import matplotlib.pyplot as plt\n",
    "import sklearn\n",
    "import seaborn as sns\n",
    "from sklearn import ensemble\n",
    "from sklearn.model_selection import cross_val_score\n",
    "from sklearn.preprocessing import StandardScaler\n",
    "from sklearn.decomposition import PCA\n",
    "from sklearn.preprocessing import LabelEncoder\n",
    "from sklearn.model_selection import train_test_split\n",
    "from sklearn import linear_model\n",
    "%matplotlib inline"
   ]
  },
  {
   "cell_type": "code",
   "execution_count": 2,
   "metadata": {
    "scrolled": true
   },
   "outputs": [],
   "source": [
    "loan_raw = pd.read_csv('LoanStats3d.csv', low_memory=False)"
   ]
  },
  {
   "cell_type": "code",
   "execution_count": 3,
   "metadata": {},
   "outputs": [],
   "source": [
    "#drop columns with data that don't really help\n",
    "loan_raw = loan_raw.drop(['id', 'member_id', 'emp_title', 'emp_length', 'issue_d', 'url', 'purpose', 'title',\n",
    "                         'zip_code', 'addr_state', 'earliest_cr_line', 'last_pymnt_d', 'next_pymnt_d',\n",
    "                         'last_credit_pull_d', 'pymnt_plan'], axis=1)\n",
    "\n",
    "#drop columns with very little data in them\n",
    "loan_raw = loan_raw.drop(['mths_since_last_record', 'mths_since_last_major_derog', 'annual_inc_joint',\n",
    "                         'dti_joint', 'verification_status_joint', 'mths_since_recent_bc_dlq',\n",
    "                         'mths_since_recent_revol_delinq', 'desc'], axis=1)\n",
    "\n",
    "#fill the NaN in these columns with 0's\n",
    "loan_raw['mths_since_last_delinq'] = loan_raw['mths_since_last_delinq'].fillna(0)\n",
    "\n",
    "#convert percentages to floats\n",
    "loan_raw['int_rate'] = loan_raw['int_rate'].str.strip('%').astype('float') / 100\n",
    "loan_raw['revol_util'] = loan_raw['revol_util'].str.strip('%').astype('float') / 100\n",
    "\n",
    "#convert remaining categorical variables\n",
    "le = LabelEncoder()\n",
    "for col in loan_raw.select_dtypes(object):\n",
    "    loan_raw[str(col)] = le.fit_transform(loan_raw[str(col)])"
   ]
  },
  {
   "cell_type": "code",
   "execution_count": 4,
   "metadata": {},
   "outputs": [],
   "source": [
    "#drop NaN values\n",
    "loan_raw = loan_raw.dropna()\n",
    "\n",
    "#create a new data frame to start testing what can be dropped\n",
    "loans = loan_raw"
   ]
  },
  {
   "cell_type": "code",
   "execution_count": 5,
   "metadata": {},
   "outputs": [],
   "source": [
    "#start dropping features\n",
    "loans = loans.drop(['funded_amnt', 'funded_amnt_inv', 'sub_grade', 'pct_tl_nvr_dlq', 'installment',\n",
    "                   'policy_code', 'grade', 'total_bal_ex_mort', 'out_prncp', 'out_prncp_inv', 'total_rec_int',\n",
    "                   'total_pymnt', 'total_pymnt_inv', 'total_rec_int', 'last_pymnt_amnt'], axis=1)"
   ]
  },
  {
   "cell_type": "code",
   "execution_count": 6,
   "metadata": {
    "scrolled": true
   },
   "outputs": [],
   "source": [
    "X = loans.drop('loan_status', axis=1)\n",
    "y = loans.loan_status\n",
    "X_train, X_test, y_train, y_test = train_test_split(X, y, test_size=0.3)"
   ]
  },
  {
   "cell_type": "code",
   "execution_count": 10,
   "metadata": {},
   "outputs": [
    {
     "data": {
      "text/plain": [
       "array([0.89829438, 0.87934302, 0.8912081 , 0.88614801, 0.88804554,\n",
       "       0.88045541, 0.88425047, 0.8961368 , 0.88220393, 0.88522511])"
      ]
     },
     "execution_count": 10,
     "metadata": {},
     "output_type": "execute_result"
    }
   ],
   "source": [
    "rfc = ensemble.RandomForestClassifier(50)\n",
    "rfc.fit(X, y)\n",
    "\n",
    "cross_val_score(rfc, X, y, cv=10)"
   ]
  },
  {
   "cell_type": "code",
   "execution_count": 8,
   "metadata": {},
   "outputs": [
    {
     "name": "stdout",
     "output_type": "stream",
     "text": [
      "[(0.3505, 'total_rec_prncp'), (0.0476, 'loan_amnt'), (0.0195, 'collection_recovery_fee'), (0.0186, 'int_rate'), (0.0185, 'revol_bal'), (0.0162, 'revol_util'), (0.016, 'annual_inc'), (0.0157, 'max_bal_bc'), (0.0156, 'dti'), (0.0151, 'mo_sin_old_il_acct'), (0.0146, 'total_rev_hi_lim'), (0.0141, 'total_bc_limit'), (0.0141, 'bc_util'), (0.0139, 'tot_hi_cred_lim'), (0.0137, 'bc_open_to_buy'), (0.0135, 'total_il_high_credit_limit'), (0.0133, 'mo_sin_old_rev_tl_op'), (0.0128, 'il_util'), (0.0128, 'avg_cur_bal'), (0.0124, 'tot_cur_bal'), (0.012, 'total_acc'), (0.0118, 'all_util'), (0.0115, 'mths_since_rcnt_il'), (0.0111, 'total_bal_il'), (0.0109, 'num_rev_accts'), (0.0109, 'mths_since_recent_inq'), (0.0105, 'num_il_tl'), (0.0105, 'mo_sin_rcnt_rev_tl_op'), (0.0098, 'num_sats'), (0.0097, 'recoveries'), (0.0097, 'num_bc_tl'), (0.0097, 'mths_since_recent_bc'), (0.0095, 'num_op_rev_tl'), (0.0092, 'acc_open_past_24mths'), (0.0091, 'mo_sin_rcnt_tl'), (0.009, 'mths_since_last_delinq'), (0.009, 'inq_last_12m'), (0.0085, 'num_tl_op_past_12m'), (0.0083, 'open_acc'), (0.0079, 'num_rev_tl_bal_gt_0'), (0.0078, 'total_rec_late_fee'), (0.0078, 'open_rv_24m'), (0.0073, 'open_il_24m'), (0.0073, 'num_actv_rev_tl'), (0.0072, 'open_il_6m'), (0.007, 'num_bc_sats'), (0.0068, 'total_cu_tl'), (0.0065, 'inq_fi'), (0.0061, 'mort_acc'), (0.0058, 'percent_bc_gt_75'), (0.0058, 'open_acc_6m'), (0.0057, 'tot_coll_amt'), (0.0056, 'num_actv_bc_tl'), (0.0053, 'num_accts_ever_120_pd'), (0.0048, 'open_il_12m'), (0.0047, 'open_rv_12m'), (0.0047, 'inq_last_6mths'), (0.0043, 'delinq_2yrs'), (0.004, 'verification_status'), (0.0035, 'term'), (0.0027, 'home_ownership'), (0.0022, 'pub_rec_bankruptcies'), (0.0022, 'pub_rec'), (0.0016, 'tax_liens'), (0.0016, 'num_tl_90g_dpd_24m'), (0.0016, 'initial_list_status'), (0.0015, 'collections_12_mths_ex_med'), (0.0005, 'application_type'), (0.0004, 'chargeoff_within_12_mths'), (0.0002, 'acc_now_delinq'), (0.0001, 'num_tl_30dpd'), (0.0001, 'delinq_amnt'), (0.0, 'num_tl_120dpd_2m')]\n"
     ]
    }
   ],
   "source": [
    "print(sorted(zip(map(lambda x: round(x, 4), rfc.feature_importances_), X.columns), \n",
    "             reverse=True))"
   ]
  },
  {
   "cell_type": "code",
   "execution_count": 11,
   "metadata": {
    "scrolled": true
   },
   "outputs": [],
   "source": [
    "pca = PCA(n_components=74)\n",
    "pca.fit(loans)\n",
    "ratio = pca.explained_variance_ratio_"
   ]
  },
  {
   "cell_type": "code",
   "execution_count": 12,
   "metadata": {},
   "outputs": [
    {
     "name": "stdout",
     "output_type": "stream",
     "text": [
      "4\n"
     ]
    }
   ],
   "source": [
    "a = 0\n",
    "for i in range(73):\n",
    "    a=a+ratio[i]\n",
    "    if a > 0.99:\n",
    "        print(i)\n",
    "        break"
   ]
  },
  {
   "cell_type": "code",
   "execution_count": 13,
   "metadata": {},
   "outputs": [
    {
     "name": "stdout",
     "output_type": "stream",
     "text": [
      "[0.87866965 0.05356834 0.03378491 0.02100961]\n"
     ]
    }
   ],
   "source": [
    "pca = PCA(n_components=4)\n",
    "pca.fit(X_train)\n",
    "train_features = pca.transform(X_train)\n",
    "train_target = pca.transform(y_train.values.reshape(-1,1))\n",
    "print(pca.explained_variance_ratio_)"
   ]
  },
  {
   "cell_type": "code",
   "execution_count": null,
   "metadata": {},
   "outputs": [],
   "source": []
  }
 ],
 "metadata": {
  "kernelspec": {
   "display_name": "Python 3",
   "language": "python",
   "name": "python3"
  },
  "language_info": {
   "codemirror_mode": {
    "name": "ipython",
    "version": 3
   },
   "file_extension": ".py",
   "mimetype": "text/x-python",
   "name": "python",
   "nbconvert_exporter": "python",
   "pygments_lexer": "ipython3",
   "version": "3.6.4"
  }
 },
 "nbformat": 4,
 "nbformat_minor": 2
}
