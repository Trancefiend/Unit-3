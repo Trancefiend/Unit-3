{
 "cells": [
  {
   "cell_type": "code",
   "execution_count": 1,
   "metadata": {},
   "outputs": [],
   "source": [
    "import pandas as pd\n",
    "import numpy as np\n",
    "import matplotlib.pyplot as plt\n",
    "import seaborn as sns\n",
    "import scipy as sc\n",
    "import sklearn\n",
    "from sklearn import linear_model\n",
    "from sklearn import preprocessing\n",
    "from sklearn import ensemble\n",
    "from sklearn.model_selection import cross_val_score\n",
    "from sklearn.preprocessing import StandardScaler\n",
    "from sklearn.decomposition import PCA\n",
    "from sklearn.preprocessing import LabelEncoder\n",
    "from sklearn.model_selection import train_test_split\n",
    "%matplotlib inline\n",
    "sns.set_style('white')"
   ]
  },
  {
   "cell_type": "code",
   "execution_count": 2,
   "metadata": {
    "scrolled": true
   },
   "outputs": [
    {
     "data": {
      "text/html": [
       "<div>\n",
       "<style scoped>\n",
       "    .dataframe tbody tr th:only-of-type {\n",
       "        vertical-align: middle;\n",
       "    }\n",
       "\n",
       "    .dataframe tbody tr th {\n",
       "        vertical-align: top;\n",
       "    }\n",
       "\n",
       "    .dataframe thead th {\n",
       "        text-align: right;\n",
       "    }\n",
       "</style>\n",
       "<table border=\"1\" class=\"dataframe\">\n",
       "  <thead>\n",
       "    <tr style=\"text-align: right;\">\n",
       "      <th></th>\n",
       "      <th>City</th>\n",
       "      <th>Population</th>\n",
       "      <th>Violent\n",
       "crime</th>\n",
       "      <th>Murder and\n",
       "nonnegligent\n",
       "manslaughter</th>\n",
       "      <th>Rape\n",
       "(revised\n",
       "definition)1</th>\n",
       "      <th>Rape\n",
       "(legacy\n",
       "definition)2</th>\n",
       "      <th>Robbery</th>\n",
       "      <th>Aggravated\n",
       "assault</th>\n",
       "      <th>Property\n",
       "crime</th>\n",
       "      <th>Burglary</th>\n",
       "      <th>Larceny-\n",
       "theft</th>\n",
       "      <th>Motor\n",
       "vehicle\n",
       "theft</th>\n",
       "      <th>Arson3</th>\n",
       "      <th>Unnamed: 13</th>\n",
       "    </tr>\n",
       "  </thead>\n",
       "  <tbody>\n",
       "    <tr>\n",
       "      <th>0</th>\n",
       "      <td>Abbeville</td>\n",
       "      <td>2,888</td>\n",
       "      <td>3</td>\n",
       "      <td>0.0</td>\n",
       "      <td>NaN</td>\n",
       "      <td>0.0</td>\n",
       "      <td>2</td>\n",
       "      <td>1</td>\n",
       "      <td>22</td>\n",
       "      <td>3</td>\n",
       "      <td>16</td>\n",
       "      <td>3</td>\n",
       "      <td>0.0</td>\n",
       "      <td>NaN</td>\n",
       "    </tr>\n",
       "    <tr>\n",
       "      <th>1</th>\n",
       "      <td>Adairsville</td>\n",
       "      <td>4,686</td>\n",
       "      <td>13</td>\n",
       "      <td>0.0</td>\n",
       "      <td>NaN</td>\n",
       "      <td>0.0</td>\n",
       "      <td>1</td>\n",
       "      <td>12</td>\n",
       "      <td>52</td>\n",
       "      <td>15</td>\n",
       "      <td>31</td>\n",
       "      <td>6</td>\n",
       "      <td>0.0</td>\n",
       "      <td>NaN</td>\n",
       "    </tr>\n",
       "    <tr>\n",
       "      <th>2</th>\n",
       "      <td>Adel</td>\n",
       "      <td>5,240</td>\n",
       "      <td>18</td>\n",
       "      <td>0.0</td>\n",
       "      <td>NaN</td>\n",
       "      <td>5.0</td>\n",
       "      <td>5</td>\n",
       "      <td>8</td>\n",
       "      <td>189</td>\n",
       "      <td>64</td>\n",
       "      <td>121</td>\n",
       "      <td>4</td>\n",
       "      <td>0.0</td>\n",
       "      <td>NaN</td>\n",
       "    </tr>\n",
       "    <tr>\n",
       "      <th>3</th>\n",
       "      <td>Adrian</td>\n",
       "      <td>656</td>\n",
       "      <td>0</td>\n",
       "      <td>0.0</td>\n",
       "      <td>NaN</td>\n",
       "      <td>0.0</td>\n",
       "      <td>0</td>\n",
       "      <td>0</td>\n",
       "      <td>2</td>\n",
       "      <td>0</td>\n",
       "      <td>2</td>\n",
       "      <td>0</td>\n",
       "      <td>0.0</td>\n",
       "      <td>NaN</td>\n",
       "    </tr>\n",
       "    <tr>\n",
       "      <th>4</th>\n",
       "      <td>Alapaha</td>\n",
       "      <td>646</td>\n",
       "      <td>5</td>\n",
       "      <td>0.0</td>\n",
       "      <td>NaN</td>\n",
       "      <td>0.0</td>\n",
       "      <td>1</td>\n",
       "      <td>4</td>\n",
       "      <td>6</td>\n",
       "      <td>0</td>\n",
       "      <td>6</td>\n",
       "      <td>0</td>\n",
       "      <td>0.0</td>\n",
       "      <td>NaN</td>\n",
       "    </tr>\n",
       "  </tbody>\n",
       "</table>\n",
       "</div>"
      ],
      "text/plain": [
       "          City Population Violent\\ncrime  \\\n",
       "0    Abbeville      2,888              3   \n",
       "1  Adairsville      4,686             13   \n",
       "2         Adel      5,240             18   \n",
       "3       Adrian        656              0   \n",
       "4      Alapaha        646              5   \n",
       "\n",
       "   Murder and\\nnonnegligent\\nmanslaughter  Rape\\n(revised\\ndefinition)1  \\\n",
       "0                                     0.0                           NaN   \n",
       "1                                     0.0                           NaN   \n",
       "2                                     0.0                           NaN   \n",
       "3                                     0.0                           NaN   \n",
       "4                                     0.0                           NaN   \n",
       "\n",
       "   Rape\\n(legacy\\ndefinition)2 Robbery Aggravated\\nassault Property\\ncrime  \\\n",
       "0                          0.0       2                   1              22   \n",
       "1                          0.0       1                  12              52   \n",
       "2                          5.0       5                   8             189   \n",
       "3                          0.0       0                   0               2   \n",
       "4                          0.0       1                   4               6   \n",
       "\n",
       "  Burglary Larceny-\\ntheft Motor\\nvehicle\\ntheft  Arson3  Unnamed: 13  \n",
       "0        3              16                     3     0.0          NaN  \n",
       "1       15              31                     6     0.0          NaN  \n",
       "2       64             121                     4     0.0          NaN  \n",
       "3        0               2                     0     0.0          NaN  \n",
       "4        0               6                     0     0.0          NaN  "
      ]
     },
     "execution_count": 2,
     "metadata": {},
     "output_type": "execute_result"
    }
   ],
   "source": [
    "df_raw = pd.read_csv('georgia_crime.csv')\n",
    "df_raw.head()"
   ]
  },
  {
   "cell_type": "code",
   "execution_count": 3,
   "metadata": {},
   "outputs": [],
   "source": [
    "#rename columns in a more friendly manner\n",
    "df_raw.rename(columns={'City': 'city',\n",
    "                         'Population': 'population',\n",
    "                         'Violent\\ncrime': 'violent_crime',\n",
    "                         'Murder and\\nnonnegligent\\nmanslaughter': 'murder',\n",
    "                         'Rape\\n(revised\\ndefinition)1': 'rape_legacy',\n",
    "                         'Rape\\n(legacy\\ndefinition)2': 'rape',\n",
    "                         'Robbery': 'robbery',\n",
    "                         'Aggravated\\nassault': 'aggravated_assault',\n",
    "                         'Property\\ncrime': 'property_crime',\n",
    "                         'Burglary': 'burglary',\n",
    "                         'Larceny-\\ntheft': 'larceny_theft',\n",
    "                         'Motor\\nvehicle\\ntheft': 'vehicle_theft',\n",
    "                         'Arson3': 'arson',\n",
    "                         'Unnamed: 13': 'unnamed'}, inplace=True)\n",
    "#drop the rape legacy and unnamed columns as they have no values\n",
    "#drop the city column\n",
    "df_georgia = df_raw.drop(['rape_legacy', 'unnamed', 'city'], 1)\n",
    "#drop the last three lines as they are footnotes\n",
    "df_georgia = df_georgia.drop(df_raw.index[-3:])"
   ]
  },
  {
   "cell_type": "code",
   "execution_count": 4,
   "metadata": {},
   "outputs": [],
   "source": [
    "#remove all commas from the data set, and turn objects into ints\n",
    "for col in df_georgia.select_dtypes(object):\n",
    "    df_georgia[col] = df_georgia[col].str.replace(',', '')\n",
    "\n",
    "#fill arson NaN values with zero and convert to ints\n",
    "df_georgia = df_georgia.fillna(0)\n",
    "df_georgia = df_georgia.astype(int)"
   ]
  },
  {
   "cell_type": "code",
   "execution_count": 5,
   "metadata": {
    "scrolled": true
   },
   "outputs": [],
   "source": [
    "df_texas = pd.read_csv('texas_crime.csv')\n",
    "\n",
    "#rename columns in a more friendly manner\n",
    "df_texas.rename(columns={'City': 'city',\n",
    "                         'Population': 'population',\n",
    "                         'Violent\\ncrime': 'violent_crime',\n",
    "                         'Murder and\\nnonnegligent\\nmanslaughter': 'murder',\n",
    "                         'Rape\\n(revised\\ndefinition)1': 'rape_legacy',\n",
    "                         'Rape\\n(legacy\\ndefinition)2': 'rape',\n",
    "                         'Robbery': 'robbery',\n",
    "                         'Aggravated\\nassault': 'aggravated_assault',\n",
    "                         'Property\\ncrime': 'property_crime',\n",
    "                         'Burglary': 'burglary',\n",
    "                         'Larceny-\\ntheft': 'larceny_theft',\n",
    "                         'Motor\\nvehicle\\ntheft': 'vehicle_theft',\n",
    "                         'Arson3': 'arson',\n",
    "                         'Unnamed: 13': 'unnamed'}, inplace=True)\n",
    "\n",
    "#drop the rape legacy and unnamed columns as they have no values\n",
    "#drop the city column\n",
    "df_texas = df_texas.drop(['rape_legacy', 'unnamed', 'city'], 1)\n",
    "\n",
    "#remove all commas from the data set, and turn objects into ints\n",
    "for col in df_texas.select_dtypes(object):\n",
    "    df_texas[col] = df_texas[col].str.replace(',', '')\n",
    "\n",
    "#fill arson NaN values with zero and convert to ints\n",
    "df_texas = df_texas.fillna(0)\n",
    "df_texas = df_texas.astype(float)"
   ]
  },
  {
   "cell_type": "code",
   "execution_count": 6,
   "metadata": {},
   "outputs": [],
   "source": [
    "df = df_georgia.append(df_texas, ignore_index=True)\n",
    "\n",
    "#drop the last three lines as they are footnotes\n",
    "df = df.drop(df.index[-3:])\n",
    "\n",
    "#fill NaN values with zero and convert to ints\n",
    "df = df.fillna(0)\n",
    "df = df.astype(float)"
   ]
  },
  {
   "cell_type": "code",
   "execution_count": 7,
   "metadata": {
    "scrolled": true
   },
   "outputs": [
    {
     "data": {
      "text/plain": [
       "0.12135884401934409"
      ]
     },
     "execution_count": 7,
     "metadata": {},
     "output_type": "execute_result"
    }
   ],
   "source": [
    "df['violent_crime'].sum() / df['property_crime'].sum()"
   ]
  },
  {
   "cell_type": "code",
   "execution_count": 8,
   "metadata": {
    "scrolled": true
   },
   "outputs": [],
   "source": [
    "#compare if there are more violent crimes than the average\n",
    "df['crime_compare'] = df['violent_crime'] / df['property_crime']\n",
    "df['crime_bool'] = np.where(df['crime_compare'] > 0.121, 1, 0)\n",
    "#set if a murder takes place to 1, if not zero\n",
    "df['murder_bool'] = np.where(df['murder'] > 0, 1, 0)\n",
    "#drop any index with a NaN for population\n",
    "df['population'] = df['population'].dropna()\n",
    "#take the log of the population\n",
    "df['population_log'] = np.log(df['population'])\n",
    "#replace NaN with 1 for crime compare values \n",
    "df['crime_compare'] = df['crime_compare'].fillna(1)\n",
    "#remove any inf, -inf, or remaining NaN\n",
    "df = df.replace([np.inf, -np.inf], np.nan).dropna(axis=1)"
   ]
  },
  {
   "cell_type": "code",
   "execution_count": 9,
   "metadata": {},
   "outputs": [
    {
     "data": {
      "text/plain": [
       "murder_bool\n",
       "0    642\n",
       "1    215\n",
       "dtype: int64"
      ]
     },
     "execution_count": 9,
     "metadata": {},
     "output_type": "execute_result"
    }
   ],
   "source": [
    "df.groupby('murder_bool').size()"
   ]
  },
  {
   "cell_type": "code",
   "execution_count": 10,
   "metadata": {
    "scrolled": false
   },
   "outputs": [
    {
     "data": {
      "image/png": "[encoded data removed]",
      "text/plain": [
       "<Figure size 432x288 with 2 Axes>"
      ]
     },
     "metadata": {},
     "output_type": "display_data"
    }
   ],
   "source": [
    "sns.heatmap(df.corr())\n",
    "plt.show()"
   ]
  },
  {
   "cell_type": "code",
   "execution_count": 11,
   "metadata": {},
   "outputs": [],
   "source": [
    "#drop violent crime and murder as they are already what we are looking to predict\n",
    "X = df.drop(['violent_crime', 'murder', 'murder_bool'], 1)\n",
    "y = df.murder_bool"
   ]
  },
  {
   "cell_type": "code",
   "execution_count": 12,
   "metadata": {
    "scrolled": true
   },
   "outputs": [
    {
     "name": "stdout",
     "output_type": "stream",
     "text": [
      "[(0.1528, 'property_crime'), (0.1407, 'larceny_theft'), (0.1286, 'robbery'), (0.12, 'burglary'), (0.1144, 'population'), (0.1066, 'population_log'), (0.0826, 'aggravated_assault'), (0.0804, 'vehicle_theft'), (0.0381, 'rape'), (0.0265, 'arson'), (0.0094, 'crime_bool')]\n"
     ]
    }
   ],
   "source": [
    "#build a random forest classifier to help determine most valuable features\n",
    "rfc = ensemble.RandomForestClassifier(n_estimators=500)\n",
    "rfc.fit(X, y)\n",
    "print(sorted(zip(map(lambda x: round(x, 4), rfc.feature_importances_), X.columns), \n",
    "             reverse=True))"
   ]
  },
  {
   "cell_type": "code",
   "execution_count": 13,
   "metadata": {},
   "outputs": [],
   "source": [
    "#train test split\n",
    "X_train, X_test, y_train, y_test = train_test_split(X, y, test_size=0.2)"
   ]
  },
  {
   "cell_type": "code",
   "execution_count": 14,
   "metadata": {},
   "outputs": [],
   "source": [
    "#use standard scaler for use in PCA due to high multicollinearity\n",
    "scaler = StandardScaler()\n",
    "scaler.fit(X_train)\n",
    "X_train_scaled = scaler.transform(X_train)\n",
    "X_test_scaled = scaler.transform(X_test)"
   ]
  },
  {
   "cell_type": "code",
   "execution_count": 15,
   "metadata": {},
   "outputs": [
    {
     "name": "stdout",
     "output_type": "stream",
     "text": [
      "The percentage of total variance in the dataset explained by each component from Sklearn PCA.\n",
      " [0.79648573 0.09431235] \n",
      " [79.65 89.08]\n"
     ]
    }
   ],
   "source": [
    "#two comp were selected for PCA\n",
    "pca = PCA(2)\n",
    "X_trainpca = pca.fit_transform(X_train_scaled)\n",
    "X_testpca = pca.transform(X_test_scaled)\n",
    "\n",
    "\n",
    "print(\n",
    "    'The percentage of total variance in the dataset explained by each',\n",
    "    'component from Sklearn PCA.\\n',\n",
    "    pca.explained_variance_ratio_,\n",
    "    '\\n',\n",
    "    np.cumsum(np.round(pca.explained_variance_ratio_, decimals=4)*100))"
   ]
  },
  {
   "cell_type": "code",
   "execution_count": 16,
   "metadata": {},
   "outputs": [
    {
     "name": "stdout",
     "output_type": "stream",
     "text": [
      "R2 Train Score:  0.8321167883211679\n",
      "R2 Test Score:  0.8488372093023255\n"
     ]
    }
   ],
   "source": [
    "#logistic regression\n",
    "logr = linear_model.LogisticRegression()\n",
    "logr.fit(X_trainpca, y_train)\n",
    "print('R2 Train Score: ', logr.score(X_trainpca, y_train))\n",
    "\n",
    "print('R2 Test Score: ', logr.score(X_testpca, y_test))"
   ]
  },
  {
   "cell_type": "code",
   "execution_count": 17,
   "metadata": {},
   "outputs": [
    {
     "name": "stdout",
     "output_type": "stream",
     "text": [
      "0.29543239532914867\n",
      "0.27105829060848863\n"
     ]
    }
   ],
   "source": [
    "#lasso regression\n",
    "lass = linear_model.Lasso(alpha=.1, max_iter=100000)\n",
    "lass.fit(X_train, y_train)\n",
    "print(lass.score(X_train, y_train))\n",
    "\n",
    "print(lass.score(X_test, y_test))"
   ]
  },
  {
   "cell_type": "code",
   "execution_count": 18,
   "metadata": {},
   "outputs": [
    {
     "name": "stdout",
     "output_type": "stream",
     "text": [
      "0.34102668804650993\n",
      "0.3285127565435957\n"
     ]
    }
   ],
   "source": [
    "#ridge regression\n",
    "ridges = linear_model.Ridge()\n",
    "ridges.fit(X_train, y_train)\n",
    "print(ridges.score(X_train, y_train))\n",
    "\n",
    "print(ridges.score(X_test, y_test))"
   ]
  },
  {
   "cell_type": "code",
   "execution_count": null,
   "metadata": {},
   "outputs": [],
   "source": []
  }
 ],
 "metadata": {
  "kernelspec": {
   "display_name": "Python 3",
   "language": "python",
   "name": "python3"
  },
  "language_info": {
   "codemirror_mode": {
    "name": "ipython",
    "version": 3
   },
   "file_extension": ".py",
   "mimetype": "text/x-python",
   "name": "python",
   "nbconvert_exporter": "python",
   "pygments_lexer": "ipython3",
   "version": "3.6.4"
  }
 },
 "nbformat": 4,
 "nbformat_minor": 2
}
