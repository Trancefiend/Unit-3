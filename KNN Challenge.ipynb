{
 "cells": [
  {
   "cell_type": "code",
   "execution_count": 1,
   "metadata": {},
   "outputs": [],
   "source": [
    "import pandas as pd\n",
    "import numpy as np\n",
    "import matplotlib.pyplot as plt\n",
    "import seaborn as sns\n",
    "import scipy\n",
    "import sklearn\n",
    "import re\n",
    "import statsmodels.formula.api as smf\n",
    "from sklearn.model_selection import train_test_split\n",
    "from sklearn import linear_model\n",
    "from sklearn.feature_selection import f_regression\n",
    "from sklearn.feature_selection import SelectKBest\n",
    "from sklearn.feature_selection import chi2\n",
    "from sklearn import neighbors\n",
    "from sklearn.preprocessing import StandardScaler\n",
    "from sklearn.decomposition import PCA \n",
    "\n",
    "%matplotlib inline"
   ]
  },
  {
   "cell_type": "code",
   "execution_count": 2,
   "metadata": {
    "scrolled": true
   },
   "outputs": [
    {
     "data": {
      "text/html": [
       "<div>\n",
       "<style scoped>\n",
       "    .dataframe tbody tr th:only-of-type {\n",
       "        vertical-align: middle;\n",
       "    }\n",
       "\n",
       "    .dataframe tbody tr th {\n",
       "        vertical-align: top;\n",
       "    }\n",
       "\n",
       "    .dataframe thead th {\n",
       "        text-align: right;\n",
       "    }\n",
       "</style>\n",
       "<table border=\"1\" class=\"dataframe\">\n",
       "  <thead>\n",
       "    <tr style=\"text-align: right;\">\n",
       "      <th></th>\n",
       "      <th>LeagueIndex</th>\n",
       "      <th>Age</th>\n",
       "      <th>TotalHours</th>\n",
       "      <th>APM</th>\n",
       "      <th>SelectByHotkeys</th>\n",
       "      <th>AssignToHotkeys</th>\n",
       "      <th>UniqueHotkeys</th>\n",
       "      <th>MinimapAttacks</th>\n",
       "      <th>MinimapRightClicks</th>\n",
       "      <th>NumberOfPACs</th>\n",
       "      <th>GapBetweenPACs</th>\n",
       "      <th>ActionLatency</th>\n",
       "      <th>ActionsInPAC</th>\n",
       "      <th>TotalMapExplored</th>\n",
       "      <th>WorkersMade</th>\n",
       "      <th>UniqueUnitsMade</th>\n",
       "      <th>ComplexUnitsMade</th>\n",
       "      <th>ComplexAbilitiesUsed</th>\n",
       "    </tr>\n",
       "  </thead>\n",
       "  <tbody>\n",
       "    <tr>\n",
       "      <th>0</th>\n",
       "      <td>5.0</td>\n",
       "      <td>27.0</td>\n",
       "      <td>3000.0</td>\n",
       "      <td>143.7180</td>\n",
       "      <td>0.003515</td>\n",
       "      <td>0.000220</td>\n",
       "      <td>7.0</td>\n",
       "      <td>0.000110</td>\n",
       "      <td>0.000392</td>\n",
       "      <td>0.004849</td>\n",
       "      <td>32.6677</td>\n",
       "      <td>40.8673</td>\n",
       "      <td>4.7508</td>\n",
       "      <td>28.0</td>\n",
       "      <td>0.001397</td>\n",
       "      <td>6.0</td>\n",
       "      <td>0.0</td>\n",
       "      <td>0.000000</td>\n",
       "    </tr>\n",
       "    <tr>\n",
       "      <th>1</th>\n",
       "      <td>5.0</td>\n",
       "      <td>23.0</td>\n",
       "      <td>5000.0</td>\n",
       "      <td>129.2322</td>\n",
       "      <td>0.003304</td>\n",
       "      <td>0.000259</td>\n",
       "      <td>4.0</td>\n",
       "      <td>0.000294</td>\n",
       "      <td>0.000432</td>\n",
       "      <td>0.004307</td>\n",
       "      <td>32.9194</td>\n",
       "      <td>42.3454</td>\n",
       "      <td>4.8434</td>\n",
       "      <td>22.0</td>\n",
       "      <td>0.001194</td>\n",
       "      <td>5.0</td>\n",
       "      <td>0.0</td>\n",
       "      <td>0.000208</td>\n",
       "    </tr>\n",
       "    <tr>\n",
       "      <th>2</th>\n",
       "      <td>4.0</td>\n",
       "      <td>30.0</td>\n",
       "      <td>200.0</td>\n",
       "      <td>69.9612</td>\n",
       "      <td>0.001101</td>\n",
       "      <td>0.000336</td>\n",
       "      <td>4.0</td>\n",
       "      <td>0.000294</td>\n",
       "      <td>0.000461</td>\n",
       "      <td>0.002926</td>\n",
       "      <td>44.6475</td>\n",
       "      <td>75.3548</td>\n",
       "      <td>4.0430</td>\n",
       "      <td>22.0</td>\n",
       "      <td>0.000745</td>\n",
       "      <td>6.0</td>\n",
       "      <td>0.0</td>\n",
       "      <td>0.000189</td>\n",
       "    </tr>\n",
       "    <tr>\n",
       "      <th>3</th>\n",
       "      <td>3.0</td>\n",
       "      <td>19.0</td>\n",
       "      <td>400.0</td>\n",
       "      <td>107.6016</td>\n",
       "      <td>0.001034</td>\n",
       "      <td>0.000213</td>\n",
       "      <td>1.0</td>\n",
       "      <td>0.000053</td>\n",
       "      <td>0.000543</td>\n",
       "      <td>0.003783</td>\n",
       "      <td>29.2203</td>\n",
       "      <td>53.7352</td>\n",
       "      <td>4.9155</td>\n",
       "      <td>19.0</td>\n",
       "      <td>0.000426</td>\n",
       "      <td>7.0</td>\n",
       "      <td>0.0</td>\n",
       "      <td>0.000384</td>\n",
       "    </tr>\n",
       "    <tr>\n",
       "      <th>4</th>\n",
       "      <td>3.0</td>\n",
       "      <td>32.0</td>\n",
       "      <td>500.0</td>\n",
       "      <td>122.8908</td>\n",
       "      <td>0.001136</td>\n",
       "      <td>0.000327</td>\n",
       "      <td>2.0</td>\n",
       "      <td>0.000000</td>\n",
       "      <td>0.001329</td>\n",
       "      <td>0.002368</td>\n",
       "      <td>22.6885</td>\n",
       "      <td>62.0813</td>\n",
       "      <td>9.3740</td>\n",
       "      <td>15.0</td>\n",
       "      <td>0.001174</td>\n",
       "      <td>4.0</td>\n",
       "      <td>0.0</td>\n",
       "      <td>0.000019</td>\n",
       "    </tr>\n",
       "  </tbody>\n",
       "</table>\n",
       "</div>"
      ],
      "text/plain": [
       "   LeagueIndex   Age  TotalHours       APM  SelectByHotkeys  AssignToHotkeys  \\\n",
       "0          5.0  27.0      3000.0  143.7180         0.003515         0.000220   \n",
       "1          5.0  23.0      5000.0  129.2322         0.003304         0.000259   \n",
       "2          4.0  30.0       200.0   69.9612         0.001101         0.000336   \n",
       "3          3.0  19.0       400.0  107.6016         0.001034         0.000213   \n",
       "4          3.0  32.0       500.0  122.8908         0.001136         0.000327   \n",
       "\n",
       "   UniqueHotkeys  MinimapAttacks  MinimapRightClicks  NumberOfPACs  \\\n",
       "0            7.0        0.000110            0.000392      0.004849   \n",
       "1            4.0        0.000294            0.000432      0.004307   \n",
       "2            4.0        0.000294            0.000461      0.002926   \n",
       "3            1.0        0.000053            0.000543      0.003783   \n",
       "4            2.0        0.000000            0.001329      0.002368   \n",
       "\n",
       "   GapBetweenPACs  ActionLatency  ActionsInPAC  TotalMapExplored  WorkersMade  \\\n",
       "0         32.6677        40.8673        4.7508              28.0     0.001397   \n",
       "1         32.9194        42.3454        4.8434              22.0     0.001194   \n",
       "2         44.6475        75.3548        4.0430              22.0     0.000745   \n",
       "3         29.2203        53.7352        4.9155              19.0     0.000426   \n",
       "4         22.6885        62.0813        9.3740              15.0     0.001174   \n",
       "\n",
       "   UniqueUnitsMade  ComplexUnitsMade  ComplexAbilitiesUsed  \n",
       "0              6.0               0.0              0.000000  \n",
       "1              5.0               0.0              0.000208  \n",
       "2              6.0               0.0              0.000189  \n",
       "3              7.0               0.0              0.000384  \n",
       "4              4.0               0.0              0.000019  "
      ]
     },
     "execution_count": 2,
     "metadata": {},
     "output_type": "execute_result"
    }
   ],
   "source": [
    "#import data and drop game id\n",
    "df = pd.read_csv('skillcraft.csv')\n",
    "df.drop('GameID', 1, inplace=True)\n",
    "df.drop('HoursPerWeek', 1, inplace=True)\n",
    "#replace ? with 0 and change values to floats\n",
    "df = df.apply(lambda x: x.replace('?', '0'))\n",
    "df = df.astype(float)\n",
    "df.head()"
   ]
  },
  {
   "cell_type": "code",
   "execution_count": 3,
   "metadata": {},
   "outputs": [],
   "source": [
    "for groups in df:\n",
    "    q = df[groups].quantile(.99)\n",
    "    df = df[df[groups] < q]"
   ]
  },
  {
   "cell_type": "code",
   "execution_count": 4,
   "metadata": {},
   "outputs": [],
   "source": [
    "X_raw = df.drop('LeagueIndex', axis=1)\n",
    "y_raw = df.LeagueIndex"
   ]
  },
  {
   "cell_type": "code",
   "execution_count": 5,
   "metadata": {
    "scrolled": true
   },
   "outputs": [
    {
     "data": {
      "text/plain": [
       "<matplotlib.axes._subplots.AxesSubplot at 0x11b7e950>"
      ]
     },
     "execution_count": 5,
     "metadata": {},
     "output_type": "execute_result"
    },
    {
     "data": {
      "image/png": "[encoded data removed]",
      "text/plain": [
       "<matplotlib.figure.Figure at 0x7721870>"
      ]
     },
     "metadata": {},
     "output_type": "display_data"
    }
   ],
   "source": [
    "sns.heatmap(df.corr())"
   ]
  },
  {
   "cell_type": "code",
   "execution_count": 6,
   "metadata": {},
   "outputs": [
    {
     "data": {
      "text/plain": [
       "(array([   18.32314493,   639.96388709,  1479.33427993,   620.45193799,\n",
       "          631.73563285,   252.7305906 ,   210.01578654,    99.56911896,\n",
       "         1165.24128759,   863.03209272,  1775.86843017,    60.22043204,\n",
       "          112.71594389,   265.74529265,    44.23207951,    77.76834821,\n",
       "           64.758307  ]),\n",
       " array([  1.92864257e-005,   5.19386982e-127,   6.19917358e-259,\n",
       "          1.45316708e-123,   1.46745693e-125,   1.71909048e-054,\n",
       "          6.63594958e-046,   4.68510337e-023,   5.98650755e-213,\n",
       "          4.79435148e-165,   2.71166321e-299,   1.18984328e-014,\n",
       "          7.89719040e-026,   4.41298371e-057,   3.51101908e-011,\n",
       "          2.02492745e-018,   1.25092459e-015]))"
      ]
     },
     "execution_count": 6,
     "metadata": {},
     "output_type": "execute_result"
    }
   ],
   "source": [
    "f_regression(X_raw, y_raw)"
   ]
  },
  {
   "cell_type": "code",
   "execution_count": 7,
   "metadata": {
    "scrolled": false
   },
   "outputs": [
    {
     "name": "stdout",
     "output_type": "stream",
     "text": [
      "The percentage of total variance in the dataset explained by each component calculated by hand.\n",
      " [ 0.29687973  0.113637    0.0860485   0.06881528  0.00069701  0.00546559\n",
      "  0.05834512  0.05298814  0.01551593  0.04668214  0.04563246  0.04086192\n",
      "  0.03798012  0.03453211  0.02125505  0.02189784  0.02346683  0.02929922]\n"
     ]
    }
   ],
   "source": [
    "Xcov = StandardScaler().fit_transform(df)\n",
    "Cx = np.cov(Xcov, rowvar=False)\n",
    "\n",
    "eig_val_cov, eig_vec_cov = np.linalg.eig(Cx)\n",
    "# Inspecting the eigenvalues and eigenvectors.\n",
    "\n",
    "print(\n",
    "    'The percentage of total variance in the dataset explained by each',\n",
    "    'component calculated by hand.\\n',\n",
    "    eig_val_cov / sum(eig_val_cov)\n",
    ")"
   ]
  },
  {
   "cell_type": "code",
   "execution_count": 8,
   "metadata": {
    "scrolled": true
   },
   "outputs": [
    {
     "data": {
      "image/png": "[encoded data removed]",
      "text/plain": [
       "<matplotlib.figure.Figure at 0x7721c30>"
      ]
     },
     "metadata": {},
     "output_type": "display_data"
    }
   ],
   "source": [
    "plt.plot(eig_val_cov)\n",
    "plt.show()"
   ]
  },
  {
   "cell_type": "code",
   "execution_count": 9,
   "metadata": {},
   "outputs": [],
   "source": [
    "X_train, X_test, y_train, y_test = train_test_split(X_raw, y_raw, test_size=0.3)"
   ]
  },
  {
   "cell_type": "code",
   "execution_count": 10,
   "metadata": {},
   "outputs": [
    {
     "name": "stdout",
     "output_type": "stream",
     "text": [
      "The percentage of total variance explained by each component:  [  9.89705330e-01   8.78156480e-03   7.70621947e-04   4.52732518e-04\n",
      "   1.83025379e-04]\n"
     ]
    }
   ],
   "source": [
    "regr = linear_model.LinearRegression()\n",
    "pca = PCA(n_components=5)\n",
    "pca.fit(X_train)\n",
    "pca_train = pca.transform(X_train)\n",
    "print(\n",
    "    'The percentage of total variance explained by each component: ', pca.explained_variance_ratio_\n",
    ")"
   ]
  },
  {
   "cell_type": "code",
   "execution_count": 11,
   "metadata": {},
   "outputs": [
    {
     "data": {
      "text/plain": [
       "0.47234403896938415"
      ]
     },
     "execution_count": 11,
     "metadata": {},
     "output_type": "execute_result"
    }
   ],
   "source": [
    "pca_test = pca.transform(X_test)\n",
    "regr = linear_model.LinearRegression()\n",
    "regr.fit(pca_train, y_train)\n",
    "regr.score(pca_test, y_test)"
   ]
  },
  {
   "cell_type": "code",
   "execution_count": 12,
   "metadata": {},
   "outputs": [],
   "source": [
    "#sc_df = df[['TotalHours', 'Age', 'UniqueHotkeys', 'GapBetweenPACs', 'ActionLatency', 'TotalMapExplored']]\n",
    "sc_df = df[['LeagueIndex', 'TotalHours', 'APM', 'NumberOfPACs', 'ActionLatency']]"
   ]
  },
  {
   "cell_type": "code",
   "execution_count": 13,
   "metadata": {},
   "outputs": [],
   "source": [
    "X = sc_df.drop('LeagueIndex', axis=1)\n",
    "y = sc_df.LeagueIndex"
   ]
  },
  {
   "cell_type": "code",
   "execution_count": 14,
   "metadata": {},
   "outputs": [],
   "source": [
    "X_train, X_test, y_train, y_test = train_test_split(X, y, test_size=0.2)"
   ]
  },
  {
   "cell_type": "code",
   "execution_count": 15,
   "metadata": {},
   "outputs": [
    {
     "data": {
      "image/png": "[encoded data removed]",
      "text/plain": [
       "<matplotlib.figure.Figure at 0x11e1cab0>"
      ]
     },
     "metadata": {},
     "output_type": "display_data"
    }
   ],
   "source": [
    "model = regr.fit(X_train, y_train)\n",
    "predicted = regr.predict(X_train).ravel()\n",
    "actual = y_train\n",
    "# Calculate the error, also called the residual.\n",
    "residual = actual - predicted\n",
    "\n",
    "plt.hist(residual)\n",
    "plt.title('Residual counts')\n",
    "plt.xlabel('Residual')\n",
    "plt.ylabel('Count')\n",
    "plt.show()"
   ]
  },
  {
   "cell_type": "code",
   "execution_count": 16,
   "metadata": {},
   "outputs": [
    {
     "data": {
      "image/png": "[encoded data removed]",
      "text/plain": [
       "<matplotlib.figure.Figure at 0x12e57790>"
      ]
     },
     "metadata": {},
     "output_type": "display_data"
    }
   ],
   "source": [
    "plt.scatter(predicted, residual)\n",
    "plt.xlabel('Predicted')\n",
    "plt.ylabel('Residual')\n",
    "plt.axhline(y=0)\n",
    "plt.title('Residual vs. Predicted')\n",
    "plt.show()"
   ]
  },
  {
   "cell_type": "code",
   "execution_count": 17,
   "metadata": {},
   "outputs": [
    {
     "name": "stdout",
     "output_type": "stream",
     "text": [
      "\n",
      "Coefficients: \n",
      " [  7.77923282e-04   6.49253979e-03   1.33232920e+02  -2.90946309e-02]\n",
      "\n",
      "Intercept: \n",
      " 4.2986533152\n",
      "\n",
      "R-squared:\n",
      "0.479537235517\n"
     ]
    }
   ],
   "source": [
    "#linear regression with features\n",
    "print('\\nCoefficients: \\n', regr.coef_)\n",
    "print('\\nIntercept: \\n', regr.intercept_)\n",
    "print('\\nR-squared:')\n",
    "print(regr.score(X, y))"
   ]
  },
  {
   "cell_type": "code",
   "execution_count": 18,
   "metadata": {},
   "outputs": [
    {
     "name": "stdout",
     "output_type": "stream",
     "text": [
      "[ 3.61653676  5.01627934  5.22342694  5.75908776  3.05667797]\n",
      "Training R-squared:  0.467658261839\n",
      "Test R-squared:  0.525927576323\n"
     ]
    }
   ],
   "source": [
    "predictions = regr.predict(X_test)\n",
    "print(predictions[:5])\n",
    "\n",
    "print('Training R-squared: ', model.score(X_train, y_train))\n",
    "print('Test R-squared: ', model.score(X_test, y_test))"
   ]
  },
  {
   "cell_type": "code",
   "execution_count": 19,
   "metadata": {},
   "outputs": [
    {
     "name": "stdout",
     "output_type": "stream",
     "text": [
      "Unweighted Accuracy: 0.44 (+/- 0.06)\n"
     ]
    }
   ],
   "source": [
    "X = df.drop('LeagueIndex', axis=1)\n",
    "y = df.LeagueIndex\n",
    "\n",
    "knn = neighbors.KNeighborsRegressor(50)\n",
    "knn_model = knn.fit(X, y)\n",
    "\n",
    "from sklearn.model_selection import cross_val_score\n",
    "score = cross_val_score(knn, X, y, cv=5)\n",
    "print(\"Unweighted Accuracy: %0.2f (+/- %0.2f)\" % (score.mean(), score.std() * 2))"
   ]
  },
  {
   "cell_type": "code",
   "execution_count": null,
   "metadata": {},
   "outputs": [],
   "source": []
  },
  {
   "cell_type": "code",
   "execution_count": null,
   "metadata": {},
   "outputs": [],
   "source": []
  }
 ],
 "metadata": {
  "kernelspec": {
   "display_name": "Python 3",
   "language": "python",
   "name": "python3"
  },
  "language_info": {
   "codemirror_mode": {
    "name": "ipython",
    "version": 3
   },
   "file_extension": ".py",
   "mimetype": "text/x-python",
   "name": "python",
   "nbconvert_exporter": "python",
   "pygments_lexer": "ipython3",
   "version": "3.6.3"
  }
 },
 "nbformat": 4,
 "nbformat_minor": 2
}
